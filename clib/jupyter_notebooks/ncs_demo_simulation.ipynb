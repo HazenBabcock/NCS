{
 "cells": [
  {
   "cell_type": "markdown",
   "metadata": {},
   "source": [
    "## Use NCSdemo_simulation code to test pyCNCS implementation.\n",
    "\n",
    "In order for this to work you need both the reference NCS/python3-6 Python module and the NCS/clib Python module in your Python path."
   ]
  },
  {
   "cell_type": "code",
   "execution_count": null,
   "metadata": {},
   "outputs": [],
   "source": [
    "import matplotlib\n",
    "import matplotlib.pyplot as pyplot\n",
    "import numpy\n",
    "import os\n",
    "import time\n",
    "\n",
    "# python3-6 NCS.\n",
    "import pyNCS\n",
    "import pyNCS.denoisetools as ncs\n",
    "\n",
    "# python3 and C.\n",
    "import pyCNCS.ncs_c as ncsC\n",
    "\n",
    "# Generate the same random noise each time.\n",
    "numpy.random.seed(1)\n"
   ]
  },
  {
   "cell_type": "code",
   "execution_count": null,
   "metadata": {},
   "outputs": [],
   "source": [
    "py_ncs_path = os.path.dirname(os.path.abspath(pyNCS.__file__))\n",
    "print(py_ncs_path)"
   ]
  },
  {
   "cell_type": "markdown",
   "metadata": {},
   "source": [
    "### pyNCS analysis\n",
    "\n",
    "This is a basically a copy of NCS/python3-6/NCSdemo_simulation.py"
   ]
  },
  {
   "cell_type": "code",
   "execution_count": null,
   "metadata": {},
   "outputs": [],
   "source": [
    "# create normalized ideal image\n",
    "fpath1 = os.path.join(py_ncs_path, \"../randwlcposition.mat\")\n",
    "imgsz = 128\n",
    "zoom = 8\n",
    "Pixelsize = 0.1\n",
    "NA = 1.4\n",
    "Lambda = 0.7\n",
    "t = time.time()\n",
    "res = ncs.genidealimage(imgsz,Pixelsize,zoom,NA,Lambda,fpath1)\n",
    "elapsed = time.time()-t\n",
    "print('Elapsed time for generating ideal image:', elapsed)\n",
    "imso = res[0]\n",
    "pyplot.imshow(imso,cmap=\"gray\")\n",
    "    \n",
    "# select variance map from calibrated map data\n",
    "fpath = os.path.join(py_ncs_path, \"../gaincalibration_561_gain.mat\")        \n",
    "noisemap = ncs.gennoisemap(imgsz,fpath)\n",
    "varsub = noisemap[0]*10 # increase the readout noise by 10 to demonstrate the effect of NCS algorithm\n",
    "gainsub = noisemap[1]\n",
    "    \n",
    "# generate simulated data\n",
    "I = 100\n",
    "bg = 10\n",
    "offset = 100\n",
    "N = 1\n",
    "dataimg = ncs.gendatastack(imso,varsub,gainsub,I,bg,offset,N)\n",
    "imsd = dataimg[1]\n"
   ]
  },
  {
   "cell_type": "code",
   "execution_count": null,
   "metadata": {},
   "outputs": [],
   "source": [
    "# generate noise corrected image\n",
    "Rs = 8\n",
    "iterationN = 15\n",
    "alpha = 0.1    \n",
    "\n",
    "out_name = os.path.join(py_ncs_path, \"../../out.npy\")\n",
    "\n",
    "# This is useful for debugging as it takes a long time for this approach to\n",
    "# to reduce the noise of an image. Once you've done this once you can just\n",
    "# load the reference result.\n",
    "if not os.path.exists(out_name):\n",
    "    \n",
    "    # This takes ~24 seconds on my laptop.\n",
    "    out = ncs.reducenoise(Rs,imsd[0:1],varsub,gainsub,imgsz,Pixelsize,NA,Lambda,alpha,iterationN)\n",
    "    numpy.save(out_name, out)\n",
    "\n",
    "else:\n",
    "    out = numpy.load(out_name)\n",
    "    \n",
    "print(out.shape)"
   ]
  },
  {
   "cell_type": "code",
   "execution_count": null,
   "metadata": {},
   "outputs": [],
   "source": [
    "f,(ax1,ax2) = pyplot.subplots(1,2,sharey=False,figsize = (8,8))\n",
    "ax1.imshow(imsd[0],aspect='equal',cmap=\"gray\")\n",
    "ax2.imshow(out[0],aspect ='equal',cmap=\"gray\")\n",
    "pyplot.show()"
   ]
  },
  {
   "cell_type": "markdown",
   "metadata": {},
   "source": [
    "## pyCNCS analysis\n",
    "\n",
    "Mixed C and Python NCS analysis."
   ]
  },
  {
   "cell_type": "code",
   "execution_count": null,
   "metadata": {},
   "outputs": [],
   "source": [
    "# Get the OTF mask that NCSDemo_simulation.py used.\n",
    "rcfilter = ncs.genfilter(Rs+2,Pixelsize,NA,Lambda,'OTFweighted',1,0.7)\n",
    "\n",
    "print(rcfilter.shape)\n",
    "\n",
    "pyplot.imshow(rcfilter, cmap = \"gray\")\n",
    "pyplot.show()"
   ]
  },
  {
   "cell_type": "code",
   "execution_count": null,
   "metadata": {},
   "outputs": [],
   "source": [
    "# Calculate gamma and run Python/C NCS.\n",
    "gamma = varsub/(gainsub*gainsub)"
   ]
  },
  {
   "cell_type": "code",
   "execution_count": null,
   "metadata": {},
   "outputs": [],
   "source": [
    "# This takes ~150ms on my laptop, so ~150x faster even though it is single threaded.\n",
    "out2 = ncsC.pyReduceNoise(imsd[0], gamma, rcfilter, alpha)"
   ]
  },
  {
   "cell_type": "markdown",
   "metadata": {},
   "source": [
    "#### Compare results to reference implementation."
   ]
  },
  {
   "cell_type": "code",
   "execution_count": null,
   "metadata": {},
   "outputs": [],
   "source": [
    "f,(ax1,ax2) = pyplot.subplots(1,2,sharey=False,figsize = (8,8))\n",
    "ax1.imshow(out[0],aspect='equal',cmap=\"gray\")\n",
    "ax2.imshow(out2,aspect ='equal',cmap=\"gray\")\n",
    "pyplot.show()"
   ]
  },
  {
   "cell_type": "code",
   "execution_count": null,
   "metadata": {},
   "outputs": [],
   "source": [
    "pyplot.figure(figsize = (6,6))\n",
    "pyplot.imshow(out[0] - out2, cmap = \"gray\")\n",
    "pyplot.show()"
   ]
  },
  {
   "cell_type": "code",
   "execution_count": null,
   "metadata": {},
   "outputs": [],
   "source": [
    "print(\"Maximum pixel difference is {0:.3f}e-\".format(numpy.max(numpy.abs(out[0] - out2))))"
   ]
  },
  {
   "cell_type": "markdown",
   "metadata": {},
   "source": [
    "## pyCNCS analysis\n",
    "\n",
    "Pure C NCS analysis."
   ]
  },
  {
   "cell_type": "code",
   "execution_count": null,
   "metadata": {},
   "outputs": [],
   "source": [
    "# The C library expects the OTF be shifted to match the FFT frequency convention.\n",
    "otf_mask = numpy.fft.fftshift(rcfilter)"
   ]
  },
  {
   "cell_type": "code",
   "execution_count": null,
   "metadata": {},
   "outputs": [],
   "source": [
    "# This takes ~125ms on my laptop, so not that much faster than the mixed C/Python approach.\n",
    "out3 = ncsC.cReduceNoise(imsd[0], gamma, otf_mask, alpha)\n"
   ]
  },
  {
   "cell_type": "markdown",
   "metadata": {},
   "source": [
    "#### Compare results to reference implementation."
   ]
  },
  {
   "cell_type": "code",
   "execution_count": null,
   "metadata": {},
   "outputs": [],
   "source": [
    "f,(ax1,ax2) = pyplot.subplots(1,2,sharey=False,figsize = (8,8))\n",
    "ax1.imshow(out[0],aspect='equal',cmap=\"gray\")\n",
    "ax2.imshow(out3,aspect ='equal',cmap=\"gray\")\n",
    "pyplot.show()"
   ]
  },
  {
   "cell_type": "code",
   "execution_count": null,
   "metadata": {},
   "outputs": [],
   "source": [
    "pyplot.figure(figsize = (6,6))\n",
    "pyplot.imshow(out2 - out3, cmap = \"gray\")\n",
    "pyplot.show()"
   ]
  },
  {
   "cell_type": "code",
   "execution_count": null,
   "metadata": {},
   "outputs": [],
   "source": [
    "print(\"C vs C/Python difference is {0:.5f}%\".format(numpy.max(numpy.abs(out2 - out3))/numpy.max(out2)))"
   ]
  },
  {
   "cell_type": "code",
   "execution_count": null,
   "metadata": {},
   "outputs": [],
   "source": []
  }
 ],
 "metadata": {
  "kernelspec": {
   "display_name": "Python 3",
   "language": "python",
   "name": "python3"
  },
  "language_info": {
   "codemirror_mode": {
    "name": "ipython",
    "version": 3
   },
   "file_extension": ".py",
   "mimetype": "text/x-python",
   "name": "python",
   "nbconvert_exporter": "python",
   "pygments_lexer": "ipython3",
   "version": "3.6.7"
  }
 },
 "nbformat": 4,
 "nbformat_minor": 2
}
